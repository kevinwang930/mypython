{
 "metadata": {
  "language_info": {
   "codemirror_mode": {
    "name": "ipython",
    "version": 3
   },
   "file_extension": ".py",
   "mimetype": "text/x-python",
   "name": "python",
   "nbconvert_exporter": "python",
   "pygments_lexer": "ipython3",
   "version": "3.8.6-final"
  },
  "orig_nbformat": 2,
  "kernelspec": {
   "name": "Python 3.8.6 64-bit ('py38': conda)",
   "display_name": "Python 3.8.6 64-bit ('py38': conda)",
   "metadata": {
    "interpreter": {
     "hash": "ea68df19c4d37e38a9eb7909edccefbc9be4cef992fc8497053f8457aa8ede20"
    }
   }
  }
 },
 "nbformat": 4,
 "nbformat_minor": 2,
 "cells": [
  {
   "cell_type": "code",
   "execution_count": 3,
   "metadata": {},
   "outputs": [
    {
     "output_type": "stream",
     "name": "stdout",
     "text": [
      " 11           0 LOAD_GLOBAL              0 (print)\n              2 LOAD_CONST               1 ('sleep begin')\n              4 CALL_FUNCTION            1\n              6 POP_TOP\n\n 12           8 LOAD_GLOBAL              1 (datetime)\n             10 LOAD_ATTR                1 (datetime)\n             12 LOAD_METHOD              2 (now)\n             14 CALL_METHOD              0\n             16 STORE_FAST               1 (now)\n\n 13          18 LOAD_GLOBAL              3 (time)\n             20 LOAD_METHOD              4 (sleep)\n             22 LOAD_CONST               2 (1)\n             24 CALL_METHOD              1\n             26 POP_TOP\n\n 14          28 LOAD_FAST                1 (now)\n             30 LOAD_GLOBAL              1 (datetime)\n             32 LOAD_ATTR                5 (timedelta)\n             34 LOAD_FAST                0 (seconds)\n             36 LOAD_CONST               3 (('seconds',))\n             38 CALL_FUNCTION_KW         1\n             40 BINARY_ADD\n             42 STORE_FAST               2 (wait_until)\n\n 17          44 LOAD_FAST                2 (wait_until)\n             46 YIELD_VALUE\n             48 STORE_FAST               3 (actual)\n\n 19          50 LOAD_GLOBAL              0 (print)\n             52 LOAD_FAST                3 (actual)\n             54 LOAD_FAST                1 (now)\n             56 BINARY_SUBTRACT\n             58 CALL_FUNCTION            1\n             60 POP_TOP\n\n 20          62 LOAD_FAST                3 (actual)\n             64 LOAD_FAST                1 (now)\n             66 BINARY_SUBTRACT\n             68 RETURN_VALUE\n"
     ]
    }
   ],
   "source": [
    "import datetime\n",
    "import time\n",
    "import types\n",
    "import dis\n",
    "@types.coroutine\n",
    "def sleep(seconds):\n",
    "    \"\"\"Pause a coroutine for the specified number of seconds.\n",
    "\n",
    "    Think of this as being like asyncio.sleep()/curio.sleep().\n",
    "    \"\"\"\n",
    "    print('sleep begin')\n",
    "    now = datetime.datetime.now()\n",
    "    time.sleep(1)\n",
    "    wait_until = now + datetime.timedelta(seconds=seconds)\n",
    "    # Make all coroutines on the call stack pause; the need to use `yield`\n",
    "    # necessitates this be generator-based and not an async-based coroutine.\n",
    "    actual = yield wait_until\n",
    "    # Resume the execution stack, sending back how long we actually waited.\n",
    "    print(actual - now)\n",
    "    return actual - now\n",
    "dis.dis(sleep)"
   ]
  },
  {
   "cell_type": "code",
   "execution_count": 4,
   "metadata": {},
   "outputs": [
    {
     "output_type": "stream",
     "name": "stdout",
     "text": [
      "<class 'function'>\n  2           0 LOAD_GLOBAL              0 (sleep)\n              2 LOAD_CONST               1 (3)\n              4 CALL_FUNCTION            1\n              6 GET_AWAITABLE\n              8 LOAD_CONST               0 (None)\n             10 YIELD_FROM\n             12 STORE_FAST               0 (delta)\n\n  3          14 LOAD_GLOBAL              1 (print)\n             16 LOAD_CONST               2 ('sleep finished ')\n             18 LOAD_FAST                0 (delta)\n             20 FORMAT_VALUE             0\n             22 BUILD_STRING             2\n             24 CALL_FUNCTION            1\n             26 POP_TOP\n             28 LOAD_CONST               0 (None)\n             30 RETURN_VALUE\n"
     ]
    }
   ],
   "source": [
    "async def await_test():\n",
    "    delta = await sleep(3)\n",
    "    print(f'sleep finished {delta}')\n",
    "print(type(await_test))\n",
    "dis.dis(await_test)"
   ]
  },
  {
   "cell_type": "code",
   "execution_count": 6,
   "metadata": {},
   "outputs": [
    {
     "output_type": "stream",
     "name": "stdout",
     "text": [
      "<class 'coroutine'>\n",
      "<class 'function'>\n",
      "sleep begin\n",
      "first send return 2020-11-04 23:53:52.413004\n"
     ]
    }
   ],
   "source": [
    "a = await_test()\n",
    "print(type(a))\n",
    "print(type(await_test))\n",
    "t = a.send(None)\n",
    "print(f\"first send return {t}\")"
   ]
  },
  {
   "cell_type": "code",
   "execution_count": null,
   "metadata": {},
   "outputs": [],
   "source": []
  }
 ]
}