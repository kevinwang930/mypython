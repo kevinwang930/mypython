{
 "metadata": {
  "language_info": {
   "codemirror_mode": {
    "name": "ipython",
    "version": 3
   },
   "file_extension": ".py",
   "mimetype": "text/x-python",
   "name": "python",
   "nbconvert_exporter": "python",
   "pygments_lexer": "ipython3",
   "version": "3.8.6-final"
  },
  "orig_nbformat": 2,
  "kernelspec": {
   "name": "python3",
   "display_name": "Python 3"
  }
 },
 "nbformat": 4,
 "nbformat_minor": 2,
 "cells": [
  {
   "cell_type": "code",
   "execution_count": 15,
   "metadata": {},
   "outputs": [
    {
     "output_type": "stream",
     "name": "stdout",
     "text": [
      "  4           0 LOAD_CONST               1 ('')\n              2 STORE_FAST               0 (r)\n\n  6     >>    4 LOAD_FAST                0 (r)\n              6 YIELD_VALUE\n              8 STORE_FAST               1 (n)\n\n  7          10 LOAD_FAST                1 (n)\n             12 POP_JUMP_IF_TRUE        18\n\n  8          14 LOAD_CONST               2 (3)\n             16 RETURN_VALUE\n\n  9     >>   18 LOAD_GLOBAL              0 (print)\n             20 LOAD_CONST               3 ('[CONSUMER]Consuming %s...')\n             22 LOAD_FAST                1 (n)\n             24 BINARY_MODULO\n             26 CALL_FUNCTION            1\n             28 POP_TOP\n\n 10          30 LOAD_CONST               4 ('200 OK')\n             32 STORE_FAST               0 (r)\n             34 JUMP_ABSOLUTE            4\n             36 LOAD_CONST               0 (None)\n             38 RETURN_VALUE\n"
     ]
    }
   ],
   "source": [
    "import dis\n",
    "\n",
    "def consumer():\n",
    "    r = ''\n",
    "    while True:\n",
    "        n = yield r\n",
    "        if not n:\n",
    "            return 3\n",
    "        print('[CONSUMER]Consuming %s...' % n)\n",
    "        r = '200 OK'\n",
    "dis.dis(consumer)\n",
    "\n"
   ]
  },
  {
   "cell_type": "code",
   "execution_count": 14,
   "metadata": {},
   "outputs": [
    {
     "output_type": "stream",
     "name": "stdout",
     "text": [
      "  2           0 LOAD_FAST                0 (c)\n              2 LOAD_METHOD              0 (send)\n              4 LOAD_CONST               0 (None)\n              6 CALL_METHOD              1\n              8 STORE_FAST               1 (test)\n\n  3          10 LOAD_GLOBAL              1 (print)\n             12 LOAD_FAST                1 (test)\n             14 CALL_FUNCTION            1\n             16 POP_TOP\n\n  4          18 LOAD_CONST               1 (0)\n             20 STORE_FAST               2 (n)\n\n  5     >>   22 LOAD_FAST                2 (n)\n             24 LOAD_CONST               2 (5)\n             26 COMPARE_OP               0 (<)\n             28 POP_JUMP_IF_FALSE       74\n\n  6          30 LOAD_FAST                2 (n)\n             32 LOAD_CONST               3 (1)\n             34 BINARY_ADD\n             36 STORE_FAST               2 (n)\n\n  7          38 LOAD_GLOBAL              1 (print)\n             40 LOAD_CONST               4 ('[PRODUCER]Producing %s...')\n             42 LOAD_FAST                2 (n)\n             44 BINARY_MODULO\n             46 CALL_FUNCTION            1\n             48 POP_TOP\n\n  8          50 LOAD_FAST                0 (c)\n             52 LOAD_METHOD              0 (send)\n             54 LOAD_FAST                2 (n)\n             56 CALL_METHOD              1\n             58 STORE_FAST               3 (r)\n\n  9          60 LOAD_GLOBAL              1 (print)\n             62 LOAD_CONST               5 ('[PRODUCER]Consumer return: %s')\n             64 LOAD_FAST                3 (r)\n             66 BINARY_MODULO\n             68 CALL_FUNCTION            1\n             70 POP_TOP\n             72 JUMP_ABSOLUTE           22\n\n 10     >>   74 LOAD_FAST                0 (c)\n             76 LOAD_METHOD              2 (close)\n             78 CALL_METHOD              0\n             80 POP_TOP\n             82 LOAD_CONST               0 (None)\n             84 RETURN_VALUE\n"
     ]
    }
   ],
   "source": [
    "def produce(c):\n",
    "    test = c.send(None)\n",
    "    print(test)\n",
    "    n = 0\n",
    "    while n < 5:\n",
    "        n = n + 1\n",
    "        print('[PRODUCER]Producing %s...' % n)\n",
    "        r = c.send(n)\n",
    "        print('[PRODUCER]Consumer return: %s' % r)\n",
    "    c.close()\n",
    "\n",
    "dis.dis(produce)"
   ]
  },
  {
   "cell_type": "code",
   "execution_count": 17,
   "metadata": {},
   "outputs": [
    {
     "output_type": "stream",
     "name": "stdout",
     "text": [
      "<class 'generator'>\n\n[PRODUCER]Producing 1...\n[CONSUMER]Consuming 1...\n[PRODUCER]Consumer return: 200 OK\n[PRODUCER]Producing 2...\n[CONSUMER]Consuming 2...\n[PRODUCER]Consumer return: 200 OK\n[PRODUCER]Producing 3...\n[CONSUMER]Consuming 3...\n[PRODUCER]Consumer return: 200 OK\n[PRODUCER]Producing 4...\n[CONSUMER]Consuming 4...\n[PRODUCER]Consumer return: 200 OK\n[PRODUCER]Producing 5...\n[CONSUMER]Consuming 5...\n[PRODUCER]Consumer return: 200 OK\n"
     ]
    }
   ],
   "source": [
    "c = consumer()\n",
    "print(type(c))\n",
    "produce(c)"
   ]
  },
  {
   "cell_type": "code",
   "execution_count": null,
   "metadata": {},
   "outputs": [],
   "source": []
  }
 ]
}