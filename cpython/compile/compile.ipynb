{
 "metadata": {
  "language_info": {
   "codemirror_mode": {
    "name": "ipython",
    "version": 3
   },
   "file_extension": ".py",
   "mimetype": "text/x-python",
   "name": "python",
   "nbconvert_exporter": "python",
   "pygments_lexer": "ipython3",
   "version": "3.8.4-final"
  },
  "orig_nbformat": 2,
  "kernelspec": {
   "name": "python_defaultSpec_1597216020546",
   "display_name": "Python 3.8.4 64-bit ('py38': conda)"
  }
 },
 "nbformat": 4,
 "nbformat_minor": 2,
 "cells": [
  {
   "cell_type": "code",
   "execution_count": 1,
   "metadata": {
    "tags": []
   },
   "outputs": [
    {
     "output_type": "stream",
     "name": "stdout",
     "text": "Name:              testfunc\nFilename:          <ipython-input-1-0d054b1f21fe>\nArgument count:    1\nPositional-only arguments: 0\nKw-only arguments: 0\nNumber of locals:  1\nStack size:        2\nFlags:             OPTIMIZED, NEWLOCALS, NOFREE\nConstants:\n   0: None\n   1: 1\nVariable names:\n   0: a\n  5           0 LOAD_FAST                0 (a)\n              2 LOAD_CONST               1 (1)\n              4 BINARY_ADD\n              6 RETURN_VALUE\n"
    }
   ],
   "source": [
    "import dis\n",
    "\n",
    "\n",
    "def testfunc(a):\n",
    "    return a+1\n",
    "        \n",
    "\n",
    "\n",
    "# print(testfunc.__code__)\n",
    "# print(testfunc.__code__.co_varnames)\n",
    "# print(testfunc.__code__.co_cellvars)\n",
    "# print(testfunc.__code__.co_names)\n",
    "# print(testfunc.__code__.co_consts)\n",
    "# # dis.dis(testfunc.__code__)\n",
    "# print(testfunc.__qualname__)\n",
    "dis.show_code(testfunc)\n",
    "dis.dis(testfunc.__code__)"
   ]
  },
  {
   "cell_type": "code",
   "execution_count": 3,
   "metadata": {
    "tags": []
   },
   "outputs": [
    {
     "output_type": "stream",
     "name": "stdout",
     "text": "Name:              <module>\nFilename:          testclass.py\nArgument count:    0\nPositional-only arguments: 0\nKw-only arguments: 0\nNumber of locals:  0\nStack size:        3\nFlags:             NOFREE\nConstants:\n   0: <code object testclass0 at 0x00000184D2601920, file \"testclass.py\", line 1>\n   1: 'testclass0'\n   2: None\nNames:\n   0: testclass0\n   1: a\n   2: displayname\nnext\n          0 LOAD_BUILD_CLASS\n          2 LOAD_CONST               0 (0)\n          4 LOAD_CONST               1 (1)\n          6 MAKE_FUNCTION            0\n          8 LOAD_CONST               1 (1)\n         10 CALL_FUNCTION            2\n         12 STORE_NAME               0 (0)\n         14 LOAD_NAME                0 (0)\n         16 CALL_FUNCTION            0\n         18 STORE_NAME               1 (1)\n         20 LOAD_NAME                1 (1)\n         22 LOAD_METHOD              2 (2)\n         24 CALL_METHOD              0\n         26 POP_TOP\n         28 LOAD_CONST               2 (2)\n         30 RETURN_VALUE\nName:              testclass0\nFilename:          testclass.py\nArgument count:    0\nPositional-only arguments: 0\nKw-only arguments: 0\nNumber of locals:  0\nStack size:        2\nFlags:             NOFREE\nConstants:\n   0: 'testclass0'\n   1: 'wang'\n   2: <code object __init__ at 0x00000184D256D660, file \"testclass.py\", line 3>\n   3: 'testclass0.__init__'\n   4: <code object displayname at 0x00000184D2601660, file \"testclass.py\", line 6>\n   5: 'testclass0.displayname'\n   6: None\nNames:\n   0: __name__\n   1: __module__\n   2: __qualname__\n   3: firstname\n   4: __init__\n   5: displayname\nnext\n          0 LOAD_NAME                0 (0)\n          2 STORE_NAME               1 (1)\n          4 LOAD_CONST               0 (0)\n          6 STORE_NAME               2 (2)\n          8 LOAD_CONST               1 (1)\n         10 STORE_NAME               3 (3)\n         12 LOAD_CONST               2 (2)\n         14 LOAD_CONST               3 (3)\n         16 MAKE_FUNCTION            0\n         18 STORE_NAME               4 (4)\n         20 LOAD_CONST               4 (4)\n         22 LOAD_CONST               5 (5)\n         24 MAKE_FUNCTION            0\n         26 STORE_NAME               5 (5)\n         28 LOAD_CONST               6 (6)\n         30 RETURN_VALUE\nName:              <module>\nFilename:          <disassembly>\nArgument count:    0\nPositional-only arguments: 0\nKw-only arguments: 0\nNumber of locals:  0\nStack size:        1\nFlags:             NOFREE\nNames:\n   0: wang\n"
    }
   ],
   "source": [
    "#class compile\n",
    "import dis\n",
    "import marshal\n",
    "import py_compile\n",
    "co =py_compile.compile('testclass.py')\n",
    "# print(co.co_code)\n",
    "# dis.dis(co.co_code)\n",
    "with open(co, 'rb') as f:\n",
    "    code = f.read()\n",
    "    c = marshal.loads(code[16:])\n",
    "dis.show_code(c)\n",
    "print('next')\n",
    "dis.dis(c.co_code)\n",
    "\n",
    "# print('co_names are ',c.co_names) \n",
    "# print('co_consts are ',c.co_consts)\n",
    "\n",
    "\n",
    "# print(c.co_consts[0].co_name)\n",
    "# print(c.co_consts[0].co_consts)\n",
    "dis.show_code(c.co_consts[0])\n",
    "print('next')\n",
    "dis.dis(c.co_consts[0].co_code)\n",
    "\n",
    "\n",
    "# print(c.co_consts[0].co_consts[1].co_name)\n",
    "# print(c.co_consts[0].co_consts[1].co_consts)\n",
    "dis.show_code(c.co_consts[0].co_consts[1])"
   ]
  },
  {
   "cell_type": "code",
   "execution_count": 2,
   "metadata": {
    "tags": []
   },
   "outputs": [
    {
     "output_type": "stream",
     "name": "stdout",
     "text": "Name:              <module>\nFilename:          testfunc.py\nArgument count:    0\nPositional-only arguments: 0\nKw-only arguments: 0\nNumber of locals:  0\nStack size:        2\nFlags:             NOFREE\nConstants:\n   0: 1\n   1: <code object testfunc at 0x000001EF56E9A500, file \"testfunc.py\", line 2>\n   2: 'testfunc'\n   3: None\nNames:\n   0: nolocal1\n   1: testfunc\n   2: c\n          0 LOAD_CONST               0 (0)\n          2 STORE_NAME               0 (0)\n          4 LOAD_CONST               1 (1)\n          6 LOAD_CONST               2 (2)\n          8 MAKE_FUNCTION            0\n         10 STORE_NAME               1 (1)\n         12 LOAD_NAME                1 (1)\n         14 LOAD_CONST               0 (0)\n         16 CALL_FUNCTION            1\n         18 STORE_NAME               2 (2)\n         20 LOAD_CONST               3 (3)\n         22 RETURN_VALUE\nName:              testfunc\nFilename:          testfunc.py\nArgument count:    1\nPositional-only arguments: 0\nKw-only arguments: 0\nNumber of locals:  2\nStack size:        2\nFlags:             OPTIMIZED, NEWLOCALS, NOFREE\nConstants:\n   0: None\n   1: 1\nNames:\n   0: nolocal1\nVariable names:\n   0: a\n   1: b\n2\n"
    }
   ],
   "source": [
    "# func compile \n",
    "import dis\n",
    "import marshal\n",
    "import py_compile\n",
    "co =py_compile.compile('testfunc.py')\n",
    "# print(co.co_code)\n",
    "# dis.dis(co.co_code)\n",
    "with open(co, 'rb') as f:\n",
    "    code = f.read()\n",
    "    c = marshal.loads(code[16:])\n",
    "dis.show_code(c)\n",
    "dis.dis(c.co_code)\n",
    "dis.show_code(c.co_consts[1])\n",
    "print(c.co_consts[1].co_nlocals)\n"
   ]
  },
  {
   "cell_type": "code",
   "execution_count": 2,
   "metadata": {
    "tags": []
   },
   "outputs": [
    {
     "output_type": "stream",
     "name": "stdout",
     "text": "Name:              <module>\nFilename:          testfunc_withclosurefile.py\nArgument count:    0\nPositional-only arguments: 0\nKw-only arguments: 0\nNumber of locals:  0\nStack size:        2\nFlags:             NOFREE\nConstants:\n   0: <code object func_out at 0x0000028461970920, file \"testfunc_withclosurefile.py\", line 1>\n   1: 'func_out'\n   2: 1\n   3: None\nNames:\n   0: func_out\n   1: a\nnext\n          0 LOAD_CONST               0 (0)\n          2 LOAD_CONST               1 (1)\n          4 MAKE_FUNCTION            0\n          6 STORE_NAME               0 (0)\n          8 LOAD_NAME                0 (0)\n         10 LOAD_CONST               2 (2)\n         12 CALL_FUNCTION            1\n         14 STORE_NAME               1 (1)\n         16 LOAD_NAME                1 (1)\n         18 CALL_FUNCTION            0\n         20 POP_TOP\n         22 LOAD_CONST               3 (3)\n         24 RETURN_VALUE\nName:              func_out\nFilename:          testfunc_withclosurefile.py\nArgument count:    1\nPositional-only arguments: 0\nKw-only arguments: 0\nNumber of locals:  2\nStack size:        3\nFlags:             OPTIMIZED, NEWLOCALS\nConstants:\n   0: None\n   1: <code object func_inner at 0x0000028461970450, file \"testfunc_withclosurefile.py\", line 2>\n   2: 'func_out.<locals>.func_inner'\nVariable names:\n   0: x\n   1: func_inner\nCell variables:\n   0: x\nnext\n          0 LOAD_CLOSURE             0 (0)\n          2 BUILD_TUPLE              1\n          4 LOAD_CONST               1 (1)\n          6 LOAD_CONST               2 (2)\n          8 MAKE_FUNCTION            8 (closure)\n         10 STORE_FAST               1 (1)\n         12 LOAD_FAST                1 (1)\n         14 RETURN_VALUE\nName:              func_inner\nFilename:          testfunc_withclosurefile.py\nArgument count:    0\nPositional-only arguments: 0\nKw-only arguments: 0\nNumber of locals:  1\nStack size:        2\nFlags:             OPTIMIZED, NEWLOCALS, NESTED\nConstants:\n   0: None\n   1: 10\nVariable names:\n   0: s\nFree variables:\n   0: x\nnext\n          0 LOAD_DEREF               0 (0)\n          2 LOAD_CONST               1 (1)\n          4 BINARY_MULTIPLY\n          6 STORE_FAST               0 (0)\n          8 LOAD_FAST                0 (0)\n         10 RETURN_VALUE\n"
    }
   ],
   "source": [
    "# func compile with closure\n",
    "import dis\n",
    "import marshal\n",
    "import py_compile\n",
    "co =py_compile.compile('testfunc_withclosurefile.py')\n",
    "# print(co.co_code)\n",
    "# dis.dis(co.co_code)\n",
    "with open(co, 'rb') as f:\n",
    "    code = f.read()\n",
    "    c = marshal.loads(code[16:])\n",
    "dis.show_code(c)\n",
    "print('next')\n",
    "dis.dis(c.co_code)\n",
    "dis.show_code(c.co_consts[0])\n",
    "print('next')\n",
    "dis.dis(c.co_consts[0].co_code)\n",
    "dis.show_code(c.co_consts[0].co_consts[1])\n",
    "print('next')\n",
    "dis.dis(c.co_consts[0].co_consts[1].co_code)"
   ]
  },
  {
   "cell_type": "code",
   "execution_count": 2,
   "metadata": {
    "tags": []
   },
   "outputs": [
    {
     "output_type": "stream",
     "name": "stdout",
     "text": "Name:              <module>\nFilename:          testException.py\nArgument count:    0\nPositional-only arguments: 0\nKw-only arguments: 0\nNumber of locals:  0\nStack size:        2\nFlags:             NOFREE\nConstants:\n   0: 1\n   1: 'test'\n   2: 'text after sys.exit'\n   3: None\nNames:\n   0: a\n   1: SystemExit\n   2: print\nnext\n          0 LOAD_CONST               0 (0)\n          2 STORE_NAME               0 (0)\n          4 LOAD_NAME                0 (0)\n          6 LOAD_CONST               0 (0)\n          8 COMPARE_OP               2 (==)\n         10 POP_JUMP_IF_FALSE       20\n         12 LOAD_NAME                1 (1)\n         14 LOAD_CONST               1 (1)\n         16 CALL_FUNCTION            1\n         18 RAISE_VARARGS            1\n    >>   20 LOAD_NAME                2 (2)\n         22 LOAD_CONST               2 (2)\n         24 CALL_FUNCTION            1\n         26 POP_TOP\n         28 LOAD_CONST               3 (3)\n         30 RETURN_VALUE\n"
    }
   ],
   "source": [
    "# func compile with exception\n",
    "import dis\n",
    "import marshal\n",
    "import py_compile\n",
    "co =py_compile.compile('testException.py')\n",
    "# print(co.co_code)\n",
    "# dis.dis(co.co_code)\n",
    "with open(co, 'rb') as f:\n",
    "    code = f.read()\n",
    "    c = marshal.loads(code[16:])\n",
    "dis.show_code(c)\n",
    "print('next')\n",
    "dis.dis(c.co_code)"
   ]
  }
 ]
}