{
 "metadata": {
  "language_info": {
   "codemirror_mode": {
    "name": "ipython",
    "version": 3
   },
   "file_extension": ".py",
   "mimetype": "text/x-python",
   "name": "python",
   "nbconvert_exporter": "python",
   "pygments_lexer": "ipython3",
   "version": "3.9.0-final"
  },
  "orig_nbformat": 2,
  "kernelspec": {
   "name": "python3",
   "display_name": "Python 3"
  }
 },
 "nbformat": 4,
 "nbformat_minor": 2,
 "cells": [
  {
   "cell_type": "code",
   "execution_count": 4,
   "metadata": {},
   "outputs": [
    {
     "output_type": "stream",
     "name": "stdout",
     "text": [
      "3\n"
     ]
    }
   ],
   "source": [
    "# variable gc\n",
    "import sys\n",
    "a = 'my string'\n",
    "c = sys.getrefcount(a)\n",
    "print(c)"
   ]
  },
  {
   "cell_type": "code",
   "execution_count": 8,
   "metadata": {},
   "outputs": [
    {
     "output_type": "stream",
     "name": "stdout",
     "text": [
      "kevin\n"
     ]
    }
   ],
   "source": [
    "class workbook:\n",
    "    def __init__(self):\n",
    "        self.order = order(self)\n",
    "\n",
    "class order:\n",
    "    def __init__(self,workbook):\n",
    "        self.workbook = workbook\n",
    "\n",
    "a = workbook()\n",
    "b = a.order\n",
    "del a\n",
    "print(b)"
   ]
  },
  {
   "cell_type": "code",
   "execution_count": 10,
   "metadata": {},
   "outputs": [
    {
     "output_type": "stream",
     "name": "stdout",
     "text": [
      "1\n1\n"
     ]
    }
   ],
   "source": [
    "import gc\n",
    "import ctypes\n",
    "\n",
    "# We use ctypes module  to access our unreachable objects by memory address.\n",
    "class PyObject(ctypes.Structure):\n",
    "    _fields_ = [(\"refcnt\", ctypes.c_long)]\n",
    "\n",
    "\n",
    "gc.disable()  # Disable generational gc\n",
    "\n",
    "lst = []\n",
    "lst.append(lst)\n",
    "\n",
    "# Store address of the list\n",
    "lst_address = id(lst)\n",
    "\n",
    "# Destroy the lst reference\n",
    "del lst\n",
    "\n",
    "object_1 = {}\n",
    "object_2 = {}\n",
    "object_1['obj2'] = object_2\n",
    "object_2['obj1'] = object_1\n",
    "\n",
    "obj_address = id(object_1)\n",
    "\n",
    "# Destroy references\n",
    "del object_1, object_2\n",
    "\n",
    "# Uncomment if you want to manually run garbage collection process \n",
    "# gc.collect()\n",
    "\n",
    "# Check the reference count\n",
    "print(PyObject.from_address(obj_address).refcnt)\n",
    "print(PyObject.from_address(lst_address).refcnt)"
   ]
  },
  {
   "cell_type": "code",
   "execution_count": null,
   "metadata": {},
   "outputs": [],
   "source": []
  }
 ]
}