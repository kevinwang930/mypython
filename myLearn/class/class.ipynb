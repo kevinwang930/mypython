{
 "cells": [
  {
   "cell_type": "code",
   "execution_count": 1,
   "metadata": {
    "tags": []
   },
   "outputs": [
    {
     "output_type": "stream",
     "name": "stdout",
     "text": [
      "Model is audi a4\ncolor is green\n"
     ]
    }
   ],
   "source": [
    "class car(): \n",
    "      \n",
    "    # init method or constructor \n",
    "    def __init__(self, model, color): \n",
    "        self.model = model \n",
    "        self.color = color \n",
    "          \n",
    "    def show(self): \n",
    "        print(\"Model is\", self.model ) \n",
    "        print(\"color is\", self.color ) \n",
    "class audi(car):\n",
    "\n",
    "    def __init__(self):\n",
    "        car.__init__(self,'audi a4','green')\n",
    "        super().__init__('audi a4','green')\n",
    "        \n",
    "\n",
    "\n",
    " \n",
    "          \n",
    "# both objects have different self which  \n",
    "# contain their attributes \n",
    "# audi = car(\"audi a4\", \"blue\") \n",
    "# ferrari = car(\"ferrari 488\", \"green\") \n",
    "  \n",
    "# audi.show()     # same output as car.show(audi)\n",
    "# car.show(audi)\n",
    "# ferrari.show()  # same output as car.show(ferrari) \n",
    "audi = audi()\n",
    "audi.show()"
   ]
  },
  {
   "cell_type": "code",
   "execution_count": 17,
   "metadata": {
    "tags": []
   },
   "outputs": [
    {
     "output_type": "stream",
     "name": "stdout",
     "text": "Model is audi a4\ncolor is red\n"
    }
   ],
   "source": [
    "class car(): \n",
    "      \n",
    "    # init method or constructor \n",
    "    def __init__(self, model, color): \n",
    "        self.model = model \n",
    "        self.color = color \n",
    "          \n",
    "    def show(self): \n",
    "        print(\"Model is\", self.model ) \n",
    "        print(\"color is\", self.color ) \n",
    "class audi(car):\n",
    "    pass\n",
    "\n",
    "audi = audi('audi a4','red')\n",
    "audi.show()\n",
    "        \n"
   ]
  },
  {
   "cell_type": "code",
   "execution_count": 5,
   "metadata": {
    "tags": []
   },
   "outputs": [
    {
     "output_type": "stream",
     "name": "stdout",
     "text": "this is a person class\nthis is a person class\nthis is a person class\n"
    }
   ],
   "source": [
    "class person:\n",
    "    def __call__(self):\n",
    "        print('this is a person class')\n",
    "\n",
    "p = person()\n",
    "p()\n",
    "person.__call__(p)\n",
    "person.__call__(1)"
   ]
  },
  {
   "cell_type": "code",
   "execution_count": 4,
   "metadata": {
    "tags": []
   },
   "outputs": [
    {
     "output_type": "stream",
     "name": "stdout",
     "text": [
      "None\n"
     ]
    }
   ],
   "source": [
    "class Employee:\n",
    "\n",
    "    def __init__(self, name, salary):\n",
    "        self.name = name\n",
    "        self.salary = salary\n",
    "    def __new__(cls, name, salary):\n",
    "        if 0 < salary < 10000:\n",
    "            return object.__new__(cls)\n",
    "        else:\n",
    "            return None\n",
    "\n",
    "    def __str__(self):\n",
    "       return '{0}({1})'.format(self.__class__.__name__, self.__dict__)\n",
    "\n",
    "\n",
    "e = Employee('kevin',100000)\n",
    "print(e)"
   ]
  },
  {
   "cell_type": "code",
   "execution_count": 32,
   "metadata": {
    "tags": []
   },
   "outputs": [
    {
     "output_type": "stream",
     "name": "stdout",
     "text": "48 80\n"
    }
   ],
   "source": [
    "from sys import getsizeof\n",
    "class MyClass1(object):\n",
    "    def __init__(self, name, identifier):\n",
    "        self.name = name\n",
    "        self.identifier = identifier\n",
    "        self.message = 'test1 class'\n",
    "        self.order = 2\n",
    "        self.test = ''\n",
    "\n",
    "\n",
    "class myClass11(MyClass1):\n",
    "    def __init__(self,name,identifier):\n",
    "        MyClass1.__init__(self,'kevin',1)\n",
    "\n",
    "\n",
    "\n",
    "class MyClass2(object):\n",
    "    __slots__ = ['name', 'identifier','message','order']\n",
    "    def __init__(self, name, identifier):\n",
    "        self.name = name\n",
    "        self.identifier = identifier\n",
    "        self.message = 'test2 class'\n",
    "        self.order = 3\n",
    "\n",
    "class myClass21(MyClass2):\n",
    "    def __init__(self,name,identifier):\n",
    "        MyClass2.__init__(self,'kevin',1)\n",
    "\n",
    "m1 = myClass11('kevin',1)\n",
    "\n",
    "m2 = myClass21('kevin',2)\n",
    "print(getsizeof(m1),getsizeof(m2))\n"
   ]
  },
  {
   "cell_type": "code",
   "execution_count": 24,
   "metadata": {
    "tags": []
   },
   "outputs": [
    {
     "output_type": "stream",
     "name": "stdout",
     "text": "<class '__main__.Person'>\nSELVA PRABHAKARAN\nperson does not have attribute middlename\nNone\nSELVA PRABHAKARAN\n"
    }
   ],
   "source": [
    "class Person(object):\n",
    "\n",
    "    def __init__(self, firstname, lastname):\n",
    "        self.first = firstname\n",
    "        self.last = lastname\n",
    "\n",
    "    def __getattribute__(self,name):\n",
    "        return super(Person,self).__getattribute__(name)\n",
    "\n",
    "    def __setattr__(self,name,value):\n",
    "        self.__dict__[name] = value.upper()\n",
    "\n",
    "    def __getattr__(self,name):\n",
    "        print(f'person does not have attribute {name}')\n",
    "        return None\n",
    "    \n",
    "\n",
    "    @property\n",
    "    def fullname(self):\n",
    "        return  self.first + ' '+ self.last\n",
    "\n",
    "    def email(self):\n",
    "        return '{}.{}@email.com'.format(self.first, self.last)\n",
    "\n",
    "person = Person('selva', 'prabhakaran')\n",
    "print(person.__class__)\n",
    "print(person.fullname)\n",
    "print(person.middlename)\n",
    "person.fullname = 'kevin wang'\n",
    "print(person.fullname)"
   ]
  },
  {
   "cell_type": "code",
   "execution_count": 1,
   "metadata": {
    "tags": []
   },
   "outputs": [
    {
     "output_type": "stream",
     "name": "stdout",
     "text": "this is room class\n100\nkevin\n"
    }
   ],
   "source": [
    "class person:\n",
    "    def __init__(self):\n",
    "        print('this is person class')\n",
    "    \n",
    "    def setname(self,name):\n",
    "        self.name = name\n",
    "        \n",
    "class room:\n",
    "    def __init__(self):\n",
    "        print('this is room class')\n",
    "    def setroomsize(self,size):\n",
    "        self.size = size\n",
    "class teacher(room,person):\n",
    "    message = 'this is teach class'\n",
    "\n",
    "t = teacher()\n",
    "t.setname('kevin')\n",
    "t.setroomsize(100)\n",
    "print(t.size)\n",
    "print(t.name)\n"
   ]
  },
  {
   "cell_type": "code",
   "execution_count": 50,
   "metadata": {
    "tags": []
   },
   "outputs": [
    {
     "output_type": "stream",
     "name": "stdout",
     "text": "<class 'method'>\n<__main__.c object at 0x000002663B9DFC40>\n<__main__.c object at 0x000002663B9DFF70>\n<function test at 0x000002663A6CCE50>\n<__main__.c object at 0x000002663B9DFC40>\n"
    },
    {
     "output_type": "error",
     "ename": "AttributeError",
     "evalue": "'function' object has no attribute '__self__'",
     "traceback": [
      "\u001b[1;31m---------------------------------------------------------------------------\u001b[0m",
      "\u001b[1;31mAttributeError\u001b[0m                            Traceback (most recent call last)",
      "\u001b[1;32m<ipython-input-50-ff3390f3cdf8>\u001b[0m in \u001b[0;36m<module>\u001b[1;34m\u001b[0m\n\u001b[0;32m     14\u001b[0m \u001b[0mprint\u001b[0m\u001b[1;33m(\u001b[0m\u001b[0ma\u001b[0m\u001b[1;33m.\u001b[0m\u001b[0mtest1\u001b[0m\u001b[1;33m.\u001b[0m\u001b[0m__func__\u001b[0m\u001b[1;33m)\u001b[0m\u001b[1;33m\u001b[0m\u001b[1;33m\u001b[0m\u001b[0m\n\u001b[0;32m     15\u001b[0m \u001b[0mprint\u001b[0m\u001b[1;33m(\u001b[0m\u001b[0ma\u001b[0m\u001b[1;33m.\u001b[0m\u001b[0mprint1\u001b[0m\u001b[1;33m.\u001b[0m\u001b[0m__self__\u001b[0m\u001b[1;33m)\u001b[0m\u001b[1;33m\u001b[0m\u001b[1;33m\u001b[0m\u001b[0m\n\u001b[1;32m---> 16\u001b[1;33m \u001b[0mprint\u001b[0m\u001b[1;33m(\u001b[0m\u001b[0mc\u001b[0m\u001b[1;33m.\u001b[0m\u001b[0mprint1\u001b[0m\u001b[1;33m.\u001b[0m\u001b[0m__self__\u001b[0m\u001b[1;33m)\u001b[0m\u001b[1;33m\u001b[0m\u001b[1;33m\u001b[0m\u001b[0m\n\u001b[0m",
      "\u001b[1;31mAttributeError\u001b[0m: 'function' object has no attribute '__self__'"
     ]
    }
   ],
   "source": [
    "def test(obj):\n",
    "    print('hello')\n",
    "class c:\n",
    "    test1 = test\n",
    "    def print1(self):\n",
    "        print(\"hello\")\n",
    "\n",
    "\n",
    "a = c()\n",
    "b = c()\n",
    "print(type(a.print1))\n",
    "print(a.test1.__self__)\n",
    "print(b.test1.__self__)\n",
    "print(a.test1.__func__)\n",
    "print(a.print1.__self__)\n",
    "print(c.print1.__self__)"
   ]
  },
  {
   "cell_type": "code",
   "execution_count": 1,
   "metadata": {
    "tags": []
   },
   "outputs": [
    {
     "output_type": "stream",
     "name": "stdout",
     "text": "Retrieving var \"x\"\n10\n"
    }
   ],
   "source": [
    "class RevealAccess(object):\n",
    "    \"\"\"A data descriptor that sets and returns values\n",
    "       normally and prints a message logging their access.\n",
    "    \"\"\"\n",
    "\n",
    "    def __init__(self, initval=None, name='var'):\n",
    "        self.val = initval\n",
    "        self.name = name\n",
    "\n",
    "    def __get__(self, obj, objtype):\n",
    "        print('Retrieving', self.name)\n",
    "        return self.val\n",
    "\n",
    "    def __set__(self, obj, val):\n",
    "        print('Updating', self.name)\n",
    "        self.val = val\n",
    "class MyClass(object):\n",
    "    x = RevealAccess(10,'var \"x\"')\n",
    "    y = 5\n",
    "\n",
    "\n",
    "my = MyClass()\n",
    "print(my.x)\n"
   ]
  },
  {
   "cell_type": "code",
   "execution_count": 3,
   "metadata": {
    "tags": []
   },
   "outputs": [
    {
     "output_type": "stream",
     "name": "stdout",
     "text": "base begin\nprepare kwargs {}\n__new__ kwargs {}\n__new__ args ()\n__new__ namespace {'__module__': '__main__', '__qualname__': 'Base', '__init_subclass__': <function Base.__init_subclass__ at 0x000001E508A7B310>, '__classcell__': <cell at 0x000001E50897A4C0: empty>}\nclass A begin\nprepare kwargs {'default_name': 'kevin'}\n__new__ kwargs {'default_name': 'kevin'}\n__new__ args ()\n__new__ namespace {'__module__': '__main__', '__qualname__': 'A', '__slots__': ('name', 'sex'), 'message': 'this is class A'}\nbegin initilize subclass with kevin\n(<class '__main__.Base'>,)\n"
    }
   ],
   "source": [
    "class meta(type):\n",
    "    # def __init__(self):\n",
    "    #     print('this is person class')\n",
    "    #     print(self.__dict__)\n",
    "\n",
    "    def __new__(cls, name,base,namespace,*args,**kwargs):\n",
    "\n",
    "        print(f'__new__ kwargs {kwargs}')\n",
    "        print(f'__new__ args {args}')\n",
    "        print(f'__new__ namespace {namespace}')\n",
    "        return type.__new__(cls,name,base,namespace,**kwargs)\n",
    "\n",
    "\n",
    "    @classmethod\n",
    "    def __prepare__(name,bases,*args,**kwargs):\n",
    "        print(f'prepare kwargs {kwargs}')\n",
    "        return {}\n",
    "\n",
    "    # def setname(self,name):\n",
    "    #     self.name = name\n",
    "        \n",
    "print('base begin')\n",
    "class Base(metaclass = meta):\n",
    "    \n",
    "    def __init_subclass__(cls, default_name,**kwargs):\n",
    "        super().__init_subclass__(**kwargs)\n",
    "        print(f'begin initilize subclass with {default_name}')\n",
    "        \n",
    "print('class A begin')\n",
    "class A(Base,default_name = 'kevin'):\n",
    "    __slots__='name','sex'\n",
    "    message = 'this is class A'\n",
    "\n",
    "\n",
    "# c = A()\n",
    "# d = A()\n",
    "# \n",
    "# print(meta.__dict__)\n",
    "# print(c.message)\n",
    "# print(A.__dict__)\n",
    "print(A.__bases__)\n"
   ]
  },
  {
   "cell_type": "code",
   "execution_count": 3,
   "metadata": {
    "tags": []
   },
   "outputs": [
    {
     "output_type": "stream",
     "name": "stdout",
     "text": "test\n"
    }
   ],
   "source": [
    "class testclass:\n",
    "    def b(self):\n",
    "        print('test')\n",
    "    def a(self):\n",
    "        self.b()\n",
    "    \n",
    "t = testclass()\n",
    "t.a()"
   ]
  },
  {
   "cell_type": "code",
   "execution_count": 10,
   "metadata": {
    "tags": []
   },
   "outputs": [
    {
     "output_type": "stream",
     "name": "stdout",
     "text": "this is a instance testprint meassage\n{'testprint': <function instancetestprint at 0x000001C6DE6ABC10>, '__module__': '__main__', '__dict__': <attribute '__dict__' of 'a' objects>, '__weakref__': <attribute '__weakref__' of 'a' objects>, '__doc__': None}\n<bound method instancetestprint of <__main__.a object at 0x000001C6DF4AFEB0>>\n"
    }
   ],
   "source": [
    "\n",
    "def instancetestprint(self):\n",
    "        print('this is a instance testprint meassage')\n",
    "\n",
    "a = type('a',(),{'testprint':instancetestprint})\n",
    "\n",
    "testclass = a()\n",
    "testclass.testprint()\n",
    "print(a.__dict__)\n",
    "\n",
    "print(testclass.testprint)"
   ]
  }
 ],
 "metadata": {
  "language_info": {
   "codemirror_mode": {
    "name": "ipython",
    "version": 3
   },
   "file_extension": ".py",
   "mimetype": "text/x-python",
   "name": "python",
   "nbconvert_exporter": "python",
   "pygments_lexer": "ipython3",
   "version": "3.9.0-final"
  },
  "orig_nbformat": 2,
  "kernelspec": {
   "name": "python3",
   "display_name": "Python 3.9.0 64-bit ('py39': conda)",
   "metadata": {
    "interpreter": {
     "hash": "0e4e13fd3e70c634a1c9b63835d5a6d065caa8836d7ec18bf4a62f499b135dc9"
    }
   }
  }
 },
 "nbformat": 4,
 "nbformat_minor": 2
}