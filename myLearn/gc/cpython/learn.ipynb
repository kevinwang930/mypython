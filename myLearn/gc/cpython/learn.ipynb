{
 "metadata": {
  "language_info": {
   "codemirror_mode": {
    "name": "ipython",
    "version": 3
   },
   "file_extension": ".py",
   "mimetype": "text/x-python",
   "name": "python",
   "nbconvert_exporter": "python",
   "pygments_lexer": "ipython3",
   "version": 3
  },
  "orig_nbformat": 2
 },
 "nbformat": 4,
 "nbformat_minor": 2,
 "cells": [
  {
   "source": [
    "### memeory\n",
    "poolsize = system page size = 4KB<br>\n",
    "arenaSize = 256KB<br>\n",
    "Size of blocks in one pool are same<br>\n",
    "\n",
    "#### arena\n",
    "1.areanas place store all the arena objects     \n",
    "1.unused_arena_objects single linked list   \n",
    "2.usable_arenas doubly_linked null_terminated list\n",
    "4.arenaobj->address pointed allocated 256kb memeory\n",
    "### pool\n",
    "1.usedpool headed circular doubly_linked partially used pool list\n",
    "### block\n",
    "1.freeblock singly linked free block list   \n",
    "2.pool->nextoffset offset of next virgin block\n",
    "\n",
    "\n"
   ],
   "cell_type": "markdown",
   "metadata": {}
  },
  {
   "source": [
    "## Cpython Initialization\n",
    "\n",
    "1. pymain_init  \n",
    "\n",
    "    1. Preinitialization  \n",
    "        1. _PyRuntime_InitIalize     \n",
    "            - _PyRuntimeState_Init_impl  \n",
    "\n",
    "        2. _Py_PreInitializeFromPyArgv  \n",
    "            - _PyEval_InitRuntimeState    \n",
    "    2. core initialization  \n",
    "        - Py_InitializeFromConfig      \n",
    "            - pyinit_core  create main thread and interpreter state  \n",
    "                - pyinit_config  \n",
    "                    - pycore_init_runtime   \n",
    "                    - _PyInterpreterState_Enable \n",
    "                    - pycore_create_interpreter  copy config to interp->config  \n",
    "                    - pycore_interp_init  \n",
    "                        1. pycore_init_types init builtin types  \n",
    "                        2. _PySys_Create create sys module  \n",
    "                        3. pycore_init_builtins  \n",
    "                        4. init_importlib  \n",
    "\n",
    "                        > interp->sysdict points to sys->md_dict  \n",
    "                        interp->builtins points to builtins->md_dict  \n",
    "                        sys->modules points to interp->modules  \n",
    "            - pyinit_main\n",
    "\n",
    "\n",
    "         \n"
   ],
   "cell_type": "markdown",
   "metadata": {}
  }
 ]
}