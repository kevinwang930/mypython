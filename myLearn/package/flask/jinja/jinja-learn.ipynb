{
 "cells": [
  {
   "cell_type": "code",
   "execution_count": 1,
   "metadata": {},
   "outputs": [
    {
     "name": "stdin",
     "output_type": "stream",
     "text": [
      "Enter your name:  kevin\n"
     ]
    },
    {
     "name": "stdout",
     "output_type": "stream",
     "text": [
      "Hello kevin\n"
     ]
    }
   ],
   "source": [
    "from jinja2 import Template\n",
    "\n",
    "name = input(\"Enter your name: \")\n",
    "\n",
    "tm = Template(\"Hello {{ name }}\")\n",
    "msg = tm.render(name=name)\n",
    "\n",
    "print(msg)"
   ]
  },
  {
   "cell_type": "code",
   "execution_count": 2,
   "metadata": {},
   "outputs": [
    {
     "name": "stdout",
     "output_type": "stream",
     "text": [
      "My name is Peter and I am 34\n"
     ]
    }
   ],
   "source": [
    "name = 'Peter'\n",
    "age = 34\n",
    "\n",
    "tm = Template(\"My name is {{ name }} and I am {{ age }}\")\n",
    "msg = tm.render(name=name, age=age)\n",
    "\n",
    "print(msg)"
   ]
  },
  {
   "cell_type": "code",
   "execution_count": 3,
   "metadata": {},
   "outputs": [
    {
     "name": "stdout",
     "output_type": "stream",
     "text": [
      "My name is Peter and I am 34\n"
     ]
    }
   ],
   "source": [
    "class Person:\n",
    "\n",
    "    def __init__(self, name, age):\n",
    "\n",
    "        self.name = name\n",
    "        self.age = age\n",
    "\n",
    "    def getAge(self):\n",
    "        return self.age\n",
    "\n",
    "    def getName(self):\n",
    "        return self.name    \n",
    "\n",
    "\n",
    "person = Person('Peter', 34)\n",
    "\n",
    "tm = Template(\"My name is {{ per.getName() }} and I am {{ per.getAge() }}\")\n",
    "msg = tm.render(per=person)\n",
    "\n",
    "print(msg)"
   ]
  },
  {
   "cell_type": "code",
   "execution_count": 4,
   "metadata": {},
   "outputs": [
    {
     "name": "stdout",
     "output_type": "stream",
     "text": [
      "My name is Person and I am 34\n"
     ]
    }
   ],
   "source": [
    "person = { 'name': 'Person', 'age': 34 }\n",
    "\n",
    "tm = Template(\"My name is {{ per.name }} and I am {{ per.age }}\")\n",
    "# tm = Template(\"My name is {{ per['name'] }} and I am {{ per['age'] }}\")\n",
    "msg = tm.render(per=person)\n",
    "\n",
    "print(msg)"
   ]
  },
  {
   "cell_type": "code",
   "execution_count": 5,
   "metadata": {},
   "outputs": [
    {
     "name": "stdout",
     "output_type": "stream",
     "text": [
      "\n",
      "\n",
      "His name is {{ name }}\n",
      "\n"
     ]
    }
   ],
   "source": [
    "data = '''\n",
    "{% raw %}\n",
    "His name is {{ name }}\n",
    "{% endraw %}\n",
    "'''\n",
    "\n",
    "tm = Template(data)\n",
    "msg = tm.render(name='Peter')\n",
    "\n",
    "print(msg)"
   ]
  },
  {
   "cell_type": "code",
   "execution_count": 8,
   "metadata": {},
   "outputs": [
    {
     "name": "stdout",
     "output_type": "stream",
     "text": [
      "<a>Today is a sunny day</a>\n",
      "&lt;a&gt;Today is a sunny day&lt;/a&gt;\n",
      "&lt;a&gt;Today is a sunny day&lt;/a&gt;\n"
     ]
    }
   ],
   "source": [
    "from jinja2 import Template, escape\n",
    "\n",
    "data = '<a>Today is a sunny day</a>'\n",
    "\n",
    "tm = Template(\"{{ data | e}}\")\n",
    "tm1 = Template(\"{{ data }}\")\n",
    "msg = tm.render(data=data)\n",
    "msg1 = tm1.render(data=data)\n",
    "print(msg1)\n",
    "print(msg)\n",
    "print(escape(data))"
   ]
  },
  {
   "cell_type": "code",
   "execution_count": 9,
   "metadata": {},
   "outputs": [
    {
     "name": "stdout",
     "output_type": "stream",
     "text": [
      "Andrej 34\n",
      "Mark 17\n",
      "Thomas 44\n",
      "Lucy 14\n",
      "Robert 23\n",
      "Dragomir 54\n",
      "\n"
     ]
    }
   ],
   "source": [
    "from jinja2 import Environment, FileSystemLoader\n",
    "\n",
    "persons = [\n",
    "    {'name': 'Andrej', 'age': 34}, \n",
    "    {'name': 'Mark', 'age': 17}, \n",
    "    {'name': 'Thomas', 'age': 44}, \n",
    "    {'name': 'Lucy', 'age': 14}, \n",
    "    {'name': 'Robert', 'age': 23}, \n",
    "    {'name': 'Dragomir', 'age': 54}\n",
    "]\n",
    "\n",
    "file_loader = FileSystemLoader('templates')\n",
    "env = Environment(loader=file_loader)\n",
    "\n",
    "template = env.get_template('showpersons.txt')\n",
    "\n",
    "output = template.render(persons=persons)\n",
    "print(output)"
   ]
  },
  {
   "cell_type": "code",
   "execution_count": 14,
   "metadata": {},
   "outputs": [
    {
     "name": "stdout",
     "output_type": "stream",
     "text": [
      "Mark\n",
      "Lucy\n",
      "\n"
     ]
    }
   ],
   "source": [
    "from jinja2 import Environment, FileSystemLoader\n",
    "\n",
    "persons = [\n",
    "    {'name': 'Andrej', 'age': 34}, \n",
    "    {'name': 'Mark', 'age': 17}, \n",
    "    {'name': 'Thomas', 'age': 44}, \n",
    "    {'name': 'Lucy', 'age': 14}, \n",
    "    {'name': 'Robert', 'age': 23}, \n",
    "    {'name': 'Dragomir', 'age': 54}, \n",
    "]\n",
    "\n",
    "file_loader = FileSystemLoader('templates')\n",
    "env = Environment(loader=file_loader)\n",
    "env.trim_blocks = True\n",
    "env.lstrip_blocks = True\n",
    "env.rstrip_blocks = True\n",
    "\n",
    "template = env.get_template('showminors.txt')\n",
    "\n",
    "output = template.render(persons=persons)\n",
    "print(output)"
   ]
  },
  {
   "cell_type": "code",
   "execution_count": 15,
   "metadata": {},
   "outputs": [
    {
     "name": "stdout",
     "output_type": "stream",
     "text": [
      "The sum of car prices is 105900\n"
     ]
    }
   ],
   "source": [
    "from jinja2 import Environment, FileSystemLoader\n",
    "\n",
    "cars = [\n",
    "    {'name': 'Audi', 'price': 23000}, \n",
    "    {'name': 'Skoda', 'price': 17300}, \n",
    "    {'name': 'Volvo', 'price': 44300}, \n",
    "    {'name': 'Volkswagen', 'price': 21300}\n",
    "]\n",
    "\n",
    "file_loader = FileSystemLoader('templates')\n",
    "env = Environment(loader=file_loader)\n",
    "\n",
    "template = env.get_template('sumprices.txt')\n",
    "\n",
    "output = template.render(cars=cars)\n",
    "print(output)"
   ]
  },
  {
   "cell_type": "code",
   "execution_count": 2,
   "metadata": {
    "tags": []
   },
   "outputs": [
    {
     "name": "stdout",
     "output_type": "stream",
     "text": [
      "<!DOCTYPE html>\n",
      "<html lang=\"en\">\n",
      "\n",
      "<head>\n",
      "    <meta charset=\"UTF-8\">\n",
      "    <meta name=\"viewport\" content=\"width=device-width, initial-scale=1.0\">\n",
      "    <meta http-equiv=\"X-UA-Compatible\" content=\"ie=edge\">\n",
      "    <title>About page</title>\n",
      "</head>\n",
      "\n",
      "<body>\n",
      "    \n",
      "<h1>About page</h1>\n",
      "<p>\n",
      "    This is about page\n",
      "</p>\n",
      "<p>this is a test function</p>\n",
      "\n",
      "</body>\n",
      "\n",
      "</html>\n"
     ]
    }
   ],
   "source": [
    "\n",
    "from jinja2 import Environment, FileSystemLoader\n",
    "\n",
    "content = 'This is about page'\n",
    "\n",
    "file_loader = FileSystemLoader('templates')\n",
    "env = Environment(loader=file_loader)\n",
    "\n",
    "template = env.get_template('about.html')\n",
    "def test():\n",
    "    return \"this is a test function\"\n",
    "output = template.render(content=content,test = test)\n",
    "print(output)"
   ]
  },
  {
   "cell_type": "code",
   "execution_count": null,
   "metadata": {},
   "outputs": [],
   "source": []
  }
 ],
 "metadata": {
  "kernelspec": {
   "display_name": "Python 3.8.2 64-bit ('py38': conda)",
   "language": "python",
   "name": "python38264bitpy38conda94cd9eff0e454f91aa2ce4ea50f4b231"
  },
  "language_info": {
   "codemirror_mode": {
    "name": "ipython",
    "version": 3
   },
   "file_extension": ".py",
   "mimetype": "text/x-python",
   "name": "python",
   "nbconvert_exporter": "python",
   "pygments_lexer": "ipython3",
   "version": "3.8.5"
  }
 },
 "nbformat": 4,
 "nbformat_minor": 4
}
