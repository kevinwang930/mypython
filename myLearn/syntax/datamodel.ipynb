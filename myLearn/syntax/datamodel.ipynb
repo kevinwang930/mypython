{
 "cells": [
  {
   "cell_type": "code",
   "execution_count": 1,
   "metadata": {
    "tags": []
   },
   "outputs": [
    {
     "output_type": "stream",
     "name": "stdout",
     "text": "140705594212000 140705594212000\nk\n<class 'list'>\nkevin\n"
    }
   ],
   "source": [
    "a = 1\n",
    "b = 1\n",
    "print(id(a),id(b))\n",
    "\n",
    "str1 = 'kevin'\n",
    "print(str1[0])\n",
    "tup1 = ('kevin',)\n",
    "list1 = ['kevin']\n",
    "print(type(list1))\n",
    "print(list1[0])\n"
   ]
  },
  {
   "cell_type": "code",
   "execution_count": 1,
   "metadata": {
    "tags": []
   },
   "outputs": [
    {
     "output_type": "stream",
     "name": "stdout",
     "text": "[1]\n[1, 2]\n[1, 2, 3]\n"
    }
   ],
   "source": [
    "def f(a, L=[]):\n",
    "    L.append(a)\n",
    "    return L\n",
    "\n",
    "print(f(1))\n",
    "print(f(2))\n",
    "print(f(3))"
   ]
  },
  {
   "cell_type": "code",
   "execution_count": 1,
   "metadata": {
    "tags": []
   },
   "outputs": [
    {
     "output_type": "stream",
     "name": "stdout",
     "text": "kevin has below args = (), kwargs= {}\nkevin has below args = ('test',), kwargs= {}\nwang has below args = ('kevin',), kwargs= {'test': 'test'}\n"
    }
   ],
   "source": [
    "def argtest(name = 'kevin', *args, height=None,**kwargs):\n",
    "    print(f'{name} has below args = {args}, kwargs= {kwargs}')\n",
    "\n",
    "argtest(height=169)\n",
    "argtest(\"kevin\",'test')\n",
    "argtest('wang','kevin',test = 'test')"
   ]
  },
  {
   "cell_type": "code",
   "execution_count": 1,
   "metadata": {
    "tags": []
   },
   "outputs": [
    {
     "output_type": "stream",
     "name": "stdout",
     "text": "{'pear', 'banana'}\n"
    }
   ],
   "source": [
    "basket = {'apple','orange','banana','pear'}\n",
    "set2 = basket - {'apple','orange'}\n",
    "print(set2)"
   ]
  },
  {
   "cell_type": "code",
   "execution_count": 2,
   "metadata": {
    "tags": []
   },
   "outputs": [
    {
     "output_type": "stream",
     "name": "stdout",
     "text": "<class 'dict'>\n<class 'set'>\n"
    }
   ],
   "source": [
    "test = {}\n",
    "set3 = set()\n",
    "print(type(test))\n",
    "print(type(set3))"
   ]
  },
  {
   "cell_type": "code",
   "execution_count": 10,
   "metadata": {
    "tags": []
   },
   "outputs": [
    {
     "output_type": "stream",
     "name": "stdout",
     "text": "['test']\n{'a': 1, 'name': ['test']}\nNone\n"
    }
   ],
   "source": [
    "d ={'a':1}\n",
    "s = d.setdefault('name',[]).append('test')\n",
    "print(d['name'])\n",
    "print(d)\n",
    "print(s)"
   ]
  },
  {
   "cell_type": "code",
   "execution_count": 14,
   "metadata": {
    "tags": []
   },
   "outputs": [
    {
     "output_type": "stream",
     "name": "stdout",
     "text": "<function reprtest at 0x0000028863C25DC0>\nrepre function processing\nthis is repr\n<function test at 0x0000028863C25310>\nrepre function processing\nthis is repr\n<class '__main__.testclass'>\nTrue\n"
    }
   ],
   "source": [
    "def test():\n",
    "    return 1\n",
    "def reprtest():\n",
    "    print(\"this is a human made repr\")\n",
    "\n",
    "test.__repr__ = reprtest\n",
    "print(test.__repr__)\n",
    "print(c)\n",
    "print(test)\n",
    "\n",
    "\n",
    "class testclass:\n",
    "\n",
    "    def __repr__(self):\n",
    "        print(\"repre function processing\")\n",
    "        return \"this is repr\"\n",
    "\n",
    "c = testclass()\n",
    "print(c)\n",
    "print(testclass)\n",
    "\n",
    "a = True\n",
    "print(a)"
   ]
  },
  {
   "cell_type": "code",
   "execution_count": 6,
   "metadata": {
    "tags": []
   },
   "outputs": [
    {
     "output_type": "stream",
     "name": "stdout",
     "text": "28\n"
    }
   ],
   "source": [
    "import sys\n",
    "a = 1222222\n",
    "print(sys.getsizeof(a))"
   ]
  },
  {
   "cell_type": "code",
   "execution_count": 1,
   "metadata": {
    "tags": []
   },
   "outputs": [
    {
     "output_type": "stream",
     "name": "stdout",
     "text": "D:\\miniconda3\\envs\\py38\\python.exe\nD:\\miniconda3\\envs\\py38\n['e:\\\\WEIYUN\\\\python\\\\Tutorial\\\\syntax', 'c:\\\\Users\\\\kevin\\\\.vscode\\\\extensions\\\\ms-python.python-2020.7.94776\\\\pythonFiles', 'c:\\\\Users\\\\kevin\\\\.vscode\\\\extensions\\\\ms-python.python-2020.7.94776\\\\pythonFiles\\\\lib\\\\python', 'D:\\\\miniconda3\\\\envs\\\\py38\\\\python38.zip', 'D:\\\\miniconda3\\\\envs\\\\py38\\\\DLLs', 'D:\\\\miniconda3\\\\envs\\\\py38\\\\lib', 'D:\\\\miniconda3\\\\envs\\\\py38', '', 'D:\\\\miniconda3\\\\envs\\\\py38\\\\lib\\\\site-packages', 'D:\\\\miniconda3\\\\envs\\\\py38\\\\lib\\\\site-packages\\\\win32', 'D:\\\\miniconda3\\\\envs\\\\py38\\\\lib\\\\site-packages\\\\win32\\\\lib', 'D:\\\\miniconda3\\\\envs\\\\py38\\\\lib\\\\site-packages\\\\Pythonwin', 'D:\\\\miniconda3\\\\envs\\\\py38\\\\lib\\\\site-packages\\\\IPython\\\\extensions', 'C:\\\\Users\\\\kevin\\\\.ipython']\n[<class 'zipimport.zipimporter'>, <function FileFinder.path_hook.<locals>.path_hook_for_FileFinder at 0x000001BE80607280>]\n1595050761.3599477\n('_abc', '_ast', '_bisect', '_blake2', '_codecs', '_codecs_cn', '_codecs_hk', '_codecs_iso2022', '_codecs_jp', '_codecs_kr', '_codecs_tw', '_collections', '_contextvars', '_csv', '_datetime', '_functools', '_heapq', '_imp', '_io', '_json', '_locale', '_lsprof', '_md5', '_multibytecodec', '_opcode', '_operator', '_pickle', '_random', '_sha1', '_sha256', '_sha3', '_sha512', '_signal', '_sre', '_stat', '_statistics', '_string', '_struct', '_symtable', '_thread', '_tracemalloc', '_warnings', '_weakref', '_winapi', '_xxsubinterpreters', 'array', 'atexit', 'audioop', 'binascii', 'builtins', 'cmath', 'errno', 'faulthandler', 'gc', 'itertools', 'marshal', 'math', 'mmap', 'msvcrt', 'nt', 'parser', 'sys', 'time', 'winreg', 'xxsubtype', 'zlib')\n<ipykernel.iostream.OutStream object at 0x000001BE849EE700>\n<_io.TextIOWrapper name='<stdout>' mode='w' encoding='utf-8'>\n{'c:\\\\Users\\\\kevin\\\\.vscode\\\\extensions\\\\ms-python.python-2020.7.94776\\\\pythonFiles': FileFinder('c:\\\\Users\\\\kevin\\\\.vscode\\\\extensions\\\\ms-python.python-2020.7.94776\\\\pythonFiles'), 'c:\\\\Users\\\\kevin\\\\.vscode\\\\extensions\\\\ms-python.python-2020.7.94776\\\\pythonFiles\\\\lib\\\\python': FileFinder('c:\\\\Users\\\\kevin\\\\.vscode\\\\extensions\\\\ms-python.python-2020.7.94776\\\\pythonFiles\\\\lib\\\\python'), 'D:\\\\miniconda3\\\\envs\\\\py38\\\\python38.zip': None, 'D:\\\\miniconda3\\\\envs\\\\py38\\\\DLLs': FileFinder('D:\\\\miniconda3\\\\envs\\\\py38\\\\DLLs'), 'D:\\\\miniconda3\\\\envs\\\\py38\\\\lib': FileFinder('D:\\\\miniconda3\\\\envs\\\\py38\\\\lib'), 'D:\\\\miniconda3\\\\envs\\\\py38\\\\lib\\\\encodings': FileFinder('D:\\\\miniconda3\\\\envs\\\\py38\\\\lib\\\\encodings'), 'D:\\\\miniconda3\\\\envs\\\\py38\\\\lib\\\\importlib': FileFinder('D:\\\\miniconda3\\\\envs\\\\py38\\\\lib\\\\importlib'), 'D:\\\\miniconda3\\\\envs\\\\py38\\\\lib\\\\site-packages': FileFinder('D:\\\\miniconda3\\\\envs\\\\py38\\\\lib\\\\site-packages'), 'D:\\\\miniconda3\\\\envs\\\\py38': FileFinder('D:\\\\miniconda3\\\\envs\\\\py38'), 'D:\\\\miniconda3\\\\envs\\\\py38\\\\lib\\\\site-packages\\\\win32': FileFinder('D:\\\\miniconda3\\\\envs\\\\py38\\\\lib\\\\site-packages\\\\win32'), 'D:\\\\miniconda3\\\\envs\\\\py38\\\\lib\\\\site-packages\\\\win32\\\\lib': FileFinder('D:\\\\miniconda3\\\\envs\\\\py38\\\\lib\\\\site-packages\\\\win32\\\\lib'), 'D:\\\\miniconda3\\\\envs\\\\py38\\\\lib\\\\site-packages\\\\Pythonwin': FileFinder('D:\\\\miniconda3\\\\envs\\\\py38\\\\lib\\\\site-packages\\\\Pythonwin'), 'c:\\\\Users\\\\kevin\\\\.vscode\\\\extensions\\\\ms-python.python-2020.7.94776\\\\pythonFiles\\\\vscode_datascience_helpers\\\\..\\\\pyvsc-run-isolated.py': None, 'D:\\\\miniconda3\\\\envs\\\\py38\\\\lib\\\\json': FileFinder('D:\\\\miniconda3\\\\envs\\\\py38\\\\lib\\\\json'), 'D:\\\\miniconda3\\\\envs\\\\py38\\\\lib\\\\site-packages\\\\ipykernel': FileFinder('D:\\\\miniconda3\\\\envs\\\\py38\\\\lib\\\\site-packages\\\\ipykernel'), 'D:\\\\miniconda3\\\\envs\\\\py38\\\\lib\\\\site-packages\\\\IPython': FileFinder('D:\\\\miniconda3\\\\envs\\\\py38\\\\lib\\\\site-packages\\\\IPython'), 'D:\\\\miniconda3\\\\envs\\\\py38\\\\lib\\\\site-packages\\\\IPython\\\\core': FileFinder('D:\\\\miniconda3\\\\envs\\\\py38\\\\lib\\\\site-packages\\\\IPython\\\\core'), 'D:\\\\miniconda3\\\\envs\\\\py38\\\\lib\\\\site-packages\\\\IPython\\\\extensions': FileFinder('D:\\\\miniconda3\\\\envs\\\\py38\\\\lib\\\\site-packages\\\\IPython\\\\extensions'), 'D:\\\\miniconda3\\\\envs\\\\py38\\\\lib\\\\collections': FileFinder('D:\\\\miniconda3\\\\envs\\\\py38\\\\lib\\\\collections'), 'D:\\\\miniconda3\\\\envs\\\\py38\\\\lib\\\\site-packages\\\\traitlets': FileFinder('D:\\\\miniconda3\\\\envs\\\\py38\\\\lib\\\\site-packages\\\\traitlets'), 'D:\\\\miniconda3\\\\envs\\\\py38\\\\lib\\\\site-packages\\\\traitlets\\\\utils': FileFinder('D:\\\\miniconda3\\\\envs\\\\py38\\\\lib\\\\site-packages\\\\traitlets\\\\utils'), 'D:\\\\miniconda3\\\\envs\\\\py38\\\\lib\\\\site-packages\\\\ipython_genutils': FileFinder('D:\\\\miniconda3\\\\envs\\\\py38\\\\lib\\\\site-packages\\\\ipython_genutils'), 'D:\\\\miniconda3\\\\envs\\\\py38\\\\lib\\\\site-packages\\\\traitlets\\\\config': FileFinder('D:\\\\miniconda3\\\\envs\\\\py38\\\\lib\\\\site-packages\\\\traitlets\\\\config'), 'D:\\\\miniconda3\\\\envs\\\\py38\\\\lib\\\\urllib': FileFinder('D:\\\\miniconda3\\\\envs\\\\py38\\\\lib\\\\urllib'), 'D:\\\\miniconda3\\\\envs\\\\py38\\\\lib\\\\site-packages\\\\IPython\\\\utils': FileFinder('D:\\\\miniconda3\\\\envs\\\\py38\\\\lib\\\\site-packages\\\\IPython\\\\utils'), 'D:\\\\miniconda3\\\\envs\\\\py38\\\\lib\\\\site-packages\\\\IPython\\\\testing': FileFinder('D:\\\\miniconda3\\\\envs\\\\py38\\\\lib\\\\site-packages\\\\IPython\\\\testing'), 'D:\\\\miniconda3\\\\envs\\\\py38\\\\lib\\\\ctypes': FileFinder('D:\\\\miniconda3\\\\envs\\\\py38\\\\lib\\\\ctypes'), 'D:\\\\miniconda3\\\\envs\\\\py38\\\\lib\\\\site-packages\\\\IPython\\\\terminal': FileFinder('D:\\\\miniconda3\\\\envs\\\\py38\\\\lib\\\\site-packages\\\\IPython\\\\terminal'), 'D:\\\\miniconda3\\\\envs\\\\py38\\\\lib\\\\site-packages\\\\IPython\\\\lib': FileFinder('D:\\\\miniconda3\\\\envs\\\\py38\\\\lib\\\\site-packages\\\\IPython\\\\lib'), 'D:\\\\miniconda3\\\\envs\\\\py38\\\\lib\\\\site-packages\\\\pygments': FileFinder('D:\\\\miniconda3\\\\envs\\\\py38\\\\lib\\\\site-packages\\\\pygments'), 'D:\\\\miniconda3\\\\envs\\\\py38\\\\lib\\\\site-packages\\\\pygments\\\\lexers': FileFinder('D:\\\\miniconda3\\\\envs\\\\py38\\\\lib\\\\site-packages\\\\pygments\\\\lexers'), 'D:\\\\miniconda3\\\\envs\\\\py38\\\\lib\\\\site-packages\\\\pygments\\\\formatters': FileFinder('D:\\\\miniconda3\\\\envs\\\\py38\\\\lib\\\\site-packages\\\\pygments\\\\formatters'), 'D:\\\\miniconda3\\\\envs\\\\py38\\\\lib\\\\site-packages\\\\backcall': FileFinder('D:\\\\miniconda3\\\\envs\\\\py38\\\\lib\\\\site-packages\\\\backcall'), 'D:\\\\miniconda3\\\\envs\\\\py38\\\\lib\\\\sqlite3': FileFinder('D:\\\\miniconda3\\\\envs\\\\py38\\\\lib\\\\sqlite3'), 'D:\\\\miniconda3\\\\envs\\\\py38\\\\lib\\\\html': FileFinder('D:\\\\miniconda3\\\\envs\\\\py38\\\\lib\\\\html'), 'D:\\\\miniconda3\\\\envs\\\\py38\\\\lib\\\\asyncio': FileFinder('D:\\\\miniconda3\\\\envs\\\\py38\\\\lib\\\\asyncio'), 'D:\\\\miniconda3\\\\envs\\\\py38\\\\lib\\\\concurrent': FileFinder('D:\\\\miniconda3\\\\envs\\\\py38\\\\lib\\\\concurrent'), 'D:\\\\miniconda3\\\\envs\\\\py38\\\\lib\\\\concurrent\\\\futures': FileFinder('D:\\\\miniconda3\\\\envs\\\\py38\\\\lib\\\\concurrent\\\\futures'), 'D:\\\\miniconda3\\\\envs\\\\py38\\\\lib\\\\site-packages\\\\prompt_toolkit': FileFinder('D:\\\\miniconda3\\\\envs\\\\py38\\\\lib\\\\site-packages\\\\prompt_toolkit'), 'D:\\\\miniconda3\\\\envs\\\\py38\\\\lib\\\\site-packages\\\\prompt_toolkit\\\\application': FileFinder('D:\\\\miniconda3\\\\envs\\\\py38\\\\lib\\\\site-packages\\\\prompt_toolkit\\\\application'), 'D:\\\\miniconda3\\\\envs\\\\py38\\\\lib\\\\site-packages\\\\prompt_toolkit\\\\eventloop': FileFinder('D:\\\\miniconda3\\\\envs\\\\py38\\\\lib\\\\site-packages\\\\prompt_toolkit\\\\eventloop'), 'D:\\\\miniconda3\\\\envs\\\\py38\\\\lib\\\\site-packages\\\\wcwidth': FileFinder('D:\\\\miniconda3\\\\envs\\\\py38\\\\lib\\\\site-packages\\\\wcwidth'), 'D:\\\\miniconda3\\\\envs\\\\py38\\\\lib\\\\site-packages\\\\prompt_toolkit\\\\clipboard': FileFinder('D:\\\\miniconda3\\\\envs\\\\py38\\\\lib\\\\site-packages\\\\prompt_toolkit\\\\clipboard'), 'D:\\\\miniconda3\\\\envs\\\\py38\\\\lib\\\\site-packages\\\\prompt_toolkit\\\\filters': FileFinder('D:\\\\miniconda3\\\\envs\\\\py38\\\\lib\\\\site-packages\\\\prompt_toolkit\\\\filters'), 'D:\\\\miniconda3\\\\envs\\\\py38\\\\lib\\\\site-packages\\\\prompt_toolkit\\\\completion': FileFinder('D:\\\\miniconda3\\\\envs\\\\py38\\\\lib\\\\site-packages\\\\prompt_toolkit\\\\completion'), 'D:\\\\miniconda3\\\\envs\\\\py38\\\\lib\\\\site-packages\\\\prompt_toolkit\\\\formatted_text': FileFinder('D:\\\\miniconda3\\\\envs\\\\py38\\\\lib\\\\site-packages\\\\prompt_toolkit\\\\formatted_text'), 'D:\\\\miniconda3\\\\envs\\\\py38\\\\lib\\\\site-packages\\\\prompt_toolkit\\\\output': FileFinder('D:\\\\miniconda3\\\\envs\\\\py38\\\\lib\\\\site-packages\\\\prompt_toolkit\\\\output'), 'D:\\\\miniconda3\\\\envs\\\\py38\\\\lib\\\\site-packages\\\\prompt_toolkit\\\\styles': FileFinder('D:\\\\miniconda3\\\\envs\\\\py38\\\\lib\\\\site-packages\\\\prompt_toolkit\\\\styles'), 'D:\\\\miniconda3\\\\envs\\\\py38\\\\lib\\\\xml': FileFinder('D:\\\\miniconda3\\\\envs\\\\py38\\\\lib\\\\xml'), 'D:\\\\miniconda3\\\\envs\\\\py38\\\\lib\\\\xml\\\\dom': FileFinder('D:\\\\miniconda3\\\\envs\\\\py38\\\\lib\\\\xml\\\\dom'), 'D:\\\\miniconda3\\\\envs\\\\py38\\\\lib\\\\site-packages\\\\prompt_toolkit\\\\key_binding': FileFinder('D:\\\\miniconda3\\\\envs\\\\py38\\\\lib\\\\site-packages\\\\prompt_toolkit\\\\key_binding'), 'D:\\\\miniconda3\\\\envs\\\\py38\\\\lib\\\\site-packages\\\\prompt_toolkit\\\\input': FileFinder('D:\\\\miniconda3\\\\envs\\\\py38\\\\lib\\\\site-packages\\\\prompt_toolkit\\\\input'), 'D:\\\\miniconda3\\\\envs\\\\py38\\\\lib\\\\site-packages\\\\prompt_toolkit\\\\key_binding\\\\bindings': FileFinder('D:\\\\miniconda3\\\\envs\\\\py38\\\\lib\\\\site-packages\\\\prompt_toolkit\\\\key_binding\\\\bindings'), 'D:\\\\miniconda3\\\\envs\\\\py38\\\\lib\\\\site-packages\\\\prompt_toolkit\\\\layout': FileFinder('D:\\\\miniconda3\\\\envs\\\\py38\\\\lib\\\\site-packages\\\\prompt_toolkit\\\\layout'), 'D:\\\\miniconda3\\\\envs\\\\py38\\\\lib\\\\site-packages\\\\prompt_toolkit\\\\lexers': FileFinder('D:\\\\miniconda3\\\\envs\\\\py38\\\\lib\\\\site-packages\\\\prompt_toolkit\\\\lexers'), 'D:\\\\miniconda3\\\\envs\\\\py38\\\\lib\\\\site-packages\\\\prompt_toolkit\\\\shortcuts': FileFinder('D:\\\\miniconda3\\\\envs\\\\py38\\\\lib\\\\site-packages\\\\prompt_toolkit\\\\shortcuts'), 'D:\\\\miniconda3\\\\envs\\\\py38\\\\lib\\\\site-packages\\\\prompt_toolkit\\\\widgets': FileFinder('D:\\\\miniconda3\\\\envs\\\\py38\\\\lib\\\\site-packages\\\\prompt_toolkit\\\\widgets'), 'D:\\\\miniconda3\\\\envs\\\\py38\\\\lib\\\\site-packages\\\\prompt_toolkit\\\\shortcuts\\\\progress_bar': FileFinder('D:\\\\miniconda3\\\\envs\\\\py38\\\\lib\\\\site-packages\\\\prompt_toolkit\\\\shortcuts\\\\progress_bar'), 'c:\\\\Users\\\\kevin\\\\.vscode\\\\extensions\\\\ms-python.python-2020.7.94776\\\\pythonFiles\\\\lib\\\\python\\\\jedi': FileFinder('c:\\\\Users\\\\kevin\\\\.vscode\\\\extensions\\\\ms-python.python-2020.7.94776\\\\pythonFiles\\\\lib\\\\python\\\\jedi'), 'c:\\\\Users\\\\kevin\\\\.vscode\\\\extensions\\\\ms-python.python-2020.7.94776\\\\pythonFiles\\\\lib\\\\python\\\\parso': FileFinder('c:\\\\Users\\\\kevin\\\\.vscode\\\\extensions\\\\ms-python.python-2020.7.94776\\\\pythonFiles\\\\lib\\\\python\\\\parso'), 'c:\\\\Users\\\\kevin\\\\.vscode\\\\extensions\\\\ms-python.python-2020.7.94776\\\\pythonFiles\\\\lib\\\\python\\\\parso\\\\pgen2': FileFinder('c:\\\\Users\\\\kevin\\\\.vscode\\\\extensions\\\\ms-python.python-2020.7.94776\\\\pythonFiles\\\\lib\\\\python\\\\parso\\\\pgen2'), 'c:\\\\Users\\\\kevin\\\\.vscode\\\\extensions\\\\ms-python.python-2020.7.94776\\\\pythonFiles\\\\lib\\\\python\\\\parso\\\\python': FileFinder('c:\\\\Users\\\\kevin\\\\.vscode\\\\extensions\\\\ms-python.python-2020.7.94776\\\\pythonFiles\\\\lib\\\\python\\\\parso\\\\python'), 'c:\\\\Users\\\\kevin\\\\.vscode\\\\extensions\\\\ms-python.python-2020.7.94776\\\\pythonFiles\\\\lib\\\\python\\\\jedi\\\\api': FileFinder('c:\\\\Users\\\\kevin\\\\.vscode\\\\extensions\\\\ms-python.python-2020.7.94776\\\\pythonFiles\\\\lib\\\\python\\\\jedi\\\\api'), 'c:\\\\Users\\\\kevin\\\\.vscode\\\\extensions\\\\ms-python.python-2020.7.94776\\\\pythonFiles\\\\lib\\\\python\\\\jedi\\\\inference': FileFinder('c:\\\\Users\\\\kevin\\\\.vscode\\\\extensions\\\\ms-python.python-2020.7.94776\\\\pythonFiles\\\\lib\\\\python\\\\jedi\\\\inference'), 'c:\\\\Users\\\\kevin\\\\.vscode\\\\extensions\\\\ms-python.python-2020.7.94776\\\\pythonFiles\\\\lib\\\\python\\\\jedi\\\\inference\\\\compiled': FileFinder('c:\\\\Users\\\\kevin\\\\.vscode\\\\extensions\\\\ms-python.python-2020.7.94776\\\\pythonFiles\\\\lib\\\\python\\\\jedi\\\\inference\\\\compiled'), 'c:\\\\Users\\\\kevin\\\\.vscode\\\\extensions\\\\ms-python.python-2020.7.94776\\\\pythonFiles\\\\lib\\\\python\\\\jedi\\\\inference\\\\gradual': FileFinder('c:\\\\Users\\\\kevin\\\\.vscode\\\\extensions\\\\ms-python.python-2020.7.94776\\\\pythonFiles\\\\lib\\\\python\\\\jedi\\\\inference\\\\gradual'), 'c:\\\\Users\\\\kevin\\\\.vscode\\\\extensions\\\\ms-python.python-2020.7.94776\\\\pythonFiles\\\\lib\\\\python\\\\jedi\\\\inference\\\\value': FileFinder('c:\\\\Users\\\\kevin\\\\.vscode\\\\extensions\\\\ms-python.python-2020.7.94776\\\\pythonFiles\\\\lib\\\\python\\\\jedi\\\\inference\\\\value'), 'D:\\\\miniconda3\\\\envs\\\\py38\\\\lib\\\\pydoc_data': FileFinder('D:\\\\miniconda3\\\\envs\\\\py38\\\\lib\\\\pydoc_data'), 'c:\\\\Users\\\\kevin\\\\.vscode\\\\extensions\\\\ms-python.python-2020.7.94776\\\\pythonFiles\\\\lib\\\\python\\\\jedi\\\\inference\\\\compiled\\\\subprocess': FileFinder('c:\\\\Users\\\\kevin\\\\.vscode\\\\extensions\\\\ms-python.python-2020.7.94776\\\\pythonFiles\\\\lib\\\\python\\\\jedi\\\\inference\\\\compiled\\\\subprocess'), 'c:\\\\Users\\\\kevin\\\\.vscode\\\\extensions\\\\ms-python.python-2020.7.94776\\\\pythonFiles\\\\lib\\\\python\\\\jedi\\\\api\\\\refactoring': FileFinder('c:\\\\Users\\\\kevin\\\\.vscode\\\\extensions\\\\ms-python.python-2020.7.94776\\\\pythonFiles\\\\lib\\\\python\\\\jedi\\\\api\\\\refactoring'), 'c:\\\\Users\\\\kevin\\\\.vscode\\\\extensions\\\\ms-python.python-2020.7.94776\\\\pythonFiles\\\\lib\\\\python\\\\jedi\\\\plugins': FileFinder('c:\\\\Users\\\\kevin\\\\.vscode\\\\extensions\\\\ms-python.python-2020.7.94776\\\\pythonFiles\\\\lib\\\\python\\\\jedi\\\\plugins'), 'D:\\\\miniconda3\\\\envs\\\\py38\\\\lib\\\\site-packages\\\\IPython\\\\core\\\\magics': FileFinder('D:\\\\miniconda3\\\\envs\\\\py38\\\\lib\\\\site-packages\\\\IPython\\\\core\\\\magics'), 'D:\\\\miniconda3\\\\envs\\\\py38\\\\lib\\\\http': FileFinder('D:\\\\miniconda3\\\\envs\\\\py38\\\\lib\\\\http'), 'D:\\\\miniconda3\\\\envs\\\\py38\\\\lib\\\\email': FileFinder('D:\\\\miniconda3\\\\envs\\\\py38\\\\lib\\\\email'), 'D:\\\\miniconda3\\\\envs\\\\py38\\\\lib\\\\site-packages\\\\jupyter_client': FileFinder('D:\\\\miniconda3\\\\envs\\\\py38\\\\lib\\\\site-packages\\\\jupyter_client'), 'D:\\\\miniconda3\\\\envs\\\\py38\\\\lib\\\\site-packages\\\\zmq': FileFinder('D:\\\\miniconda3\\\\envs\\\\py38\\\\lib\\\\site-packages\\\\zmq'), 'D:\\\\miniconda3\\\\envs\\\\py38\\\\lib\\\\site-packages\\\\zmq\\\\backend': FileFinder('D:\\\\miniconda3\\\\envs\\\\py38\\\\lib\\\\site-packages\\\\zmq\\\\backend'), 'D:\\\\miniconda3\\\\envs\\\\py38\\\\lib\\\\site-packages\\\\zmq\\\\backend\\\\cython': FileFinder('D:\\\\miniconda3\\\\envs\\\\py38\\\\lib\\\\site-packages\\\\zmq\\\\backend\\\\cython'), 'D:\\\\miniconda3\\\\envs\\\\py38\\\\lib\\\\site-packages\\\\zmq\\\\sugar': FileFinder('D:\\\\miniconda3\\\\envs\\\\py38\\\\lib\\\\site-packages\\\\zmq\\\\sugar'), 'D:\\\\miniconda3\\\\envs\\\\py38\\\\lib\\\\site-packages\\\\zmq\\\\utils': FileFinder('D:\\\\miniconda3\\\\envs\\\\py38\\\\lib\\\\site-packages\\\\zmq\\\\utils'), 'D:\\\\miniconda3\\\\envs\\\\py38\\\\lib\\\\site-packages\\\\jupyter_core': FileFinder('D:\\\\miniconda3\\\\envs\\\\py38\\\\lib\\\\site-packages\\\\jupyter_core'), 'D:\\\\miniconda3\\\\envs\\\\py38\\\\lib\\\\distutils': FileFinder('D:\\\\miniconda3\\\\envs\\\\py38\\\\lib\\\\distutils'), 'D:\\\\miniconda3\\\\envs\\\\py38\\\\lib\\\\site-packages\\\\jupyter_client\\\\blocking': FileFinder('D:\\\\miniconda3\\\\envs\\\\py38\\\\lib\\\\site-packages\\\\jupyter_client\\\\blocking'), 'D:\\\\miniconda3\\\\envs\\\\py38\\\\lib\\\\site-packages\\\\jupyter_client\\\\asynchronous': FileFinder('D:\\\\miniconda3\\\\envs\\\\py38\\\\lib\\\\site-packages\\\\jupyter_client\\\\asynchronous'), 'D:\\\\miniconda3\\\\envs\\\\py38\\\\lib\\\\site-packages\\\\tornado': FileFinder('D:\\\\miniconda3\\\\envs\\\\py38\\\\lib\\\\site-packages\\\\tornado'), 'D:\\\\miniconda3\\\\envs\\\\py38\\\\lib\\\\logging': FileFinder('D:\\\\miniconda3\\\\envs\\\\py38\\\\lib\\\\logging'), 'D:\\\\miniconda3\\\\envs\\\\py38\\\\lib\\\\site-packages\\\\colorama': FileFinder('D:\\\\miniconda3\\\\envs\\\\py38\\\\lib\\\\site-packages\\\\colorama'), 'D:\\\\miniconda3\\\\envs\\\\py38\\\\lib\\\\site-packages\\\\zmq\\\\eventloop': FileFinder('D:\\\\miniconda3\\\\envs\\\\py38\\\\lib\\\\site-packages\\\\zmq\\\\eventloop'), 'D:\\\\miniconda3\\\\envs\\\\py38\\\\lib\\\\site-packages\\\\tornado\\\\platform': FileFinder('D:\\\\miniconda3\\\\envs\\\\py38\\\\lib\\\\site-packages\\\\tornado\\\\platform'), 'D:\\\\miniconda3\\\\envs\\\\py38\\\\lib\\\\site-packages\\\\dateutil': FileFinder('D:\\\\miniconda3\\\\envs\\\\py38\\\\lib\\\\site-packages\\\\dateutil'), 'D:\\\\miniconda3\\\\envs\\\\py38\\\\lib\\\\site-packages\\\\dateutil\\\\parser': FileFinder('D:\\\\miniconda3\\\\envs\\\\py38\\\\lib\\\\site-packages\\\\dateutil\\\\parser'), 'D:\\\\miniconda3\\\\envs\\\\py38\\\\lib\\\\site-packages\\\\dateutil\\\\tz': FileFinder('D:\\\\miniconda3\\\\envs\\\\py38\\\\lib\\\\site-packages\\\\dateutil\\\\tz'), 'D:\\\\miniconda3\\\\envs\\\\py38\\\\lib\\\\site-packages\\\\ipykernel\\\\comm': FileFinder('D:\\\\miniconda3\\\\envs\\\\py38\\\\lib\\\\site-packages\\\\ipykernel\\\\comm'), 'C:\\\\Users\\\\kevin\\\\.ipython': FileFinder('C:\\\\Users\\\\kevin\\\\.ipython'), 'C:\\\\Users\\\\kevin\\\\.ipython\\\\extensions': FileFinder('C:\\\\Users\\\\kevin\\\\.ipython\\\\extensions'), 'D:\\\\Program Files\\\\Microsoft VS Code': FileFinder('D:\\\\Program Files\\\\Microsoft VS Code')}\n"
    }
   ],
   "source": [
    "import sys\n",
    "import time\n",
    "print(sys.executable)\n",
    "print(sys.prefix)\n",
    "print(sys.path)\n",
    "print(sys.path_hooks)\n",
    "print(time.time())\n",
    "print(sys.builtin_module_names)\n",
    "print(sys.stdout)\n",
    "print(sys.__stdout__)\n",
    "print(sys.path_importer_cache)"
   ]
  },
  {
   "cell_type": "code",
   "execution_count": 11,
   "metadata": {
    "tags": []
   },
   "outputs": [
    {
     "output_type": "stream",
     "name": "stdout",
     "text": "Hello world!\n"
    }
   ],
   "source": [
    "import __hello__\n"
   ]
  },
  {
   "cell_type": "code",
   "execution_count": 2,
   "metadata": {
    "tags": []
   },
   "outputs": [
    {
     "output_type": "stream",
     "name": "stdout",
     "text": "Hello world!\n"
    }
   ],
   "source": [
    "        import __hello__"
   ]
  },
  {
   "cell_type": "code",
   "execution_count": 12,
   "metadata": {
    "tags": []
   },
   "outputs": [
    {
     "output_type": "stream",
     "name": "stdout",
     "text": "a 1\nb 2\n{'a': 1, 'b': 2}\n"
    }
   ],
   "source": [
    "d = {\"a\":1,\"b\":2}\n",
    "for a in d.__iter__():\n",
    "    print(a,d[a])\n",
    "print(d)"
   ]
  },
  {
   "cell_type": "code",
   "execution_count": 5,
   "metadata": {
    "tags": []
   },
   "outputs": [
    {
     "output_type": "stream",
     "name": "stdout",
     "text": "1636162843742115240\n1\n97\n"
    }
   ],
   "source": [
    "a = hash('a')\n",
    "print(a)\n",
    "print(hash(1))\n",
    "print(ord('a'))"
   ]
  },
  {
   "cell_type": "code",
   "execution_count": 8,
   "metadata": {
    "tags": []
   },
   "outputs": [
    {
     "output_type": "stream",
     "name": "stdout",
     "text": "99328297984\n"
    }
   ],
   "source": [
    "a = (ord('a') << 10)  * 1000003\n",
    "print(a)"
   ]
  },
  {
   "cell_type": "code",
   "execution_count": 2,
   "metadata": {
    "tags": []
   },
   "outputs": [
    {
     "output_type": "stream",
     "name": "stdout",
     "text": "1\n"
    }
   ],
   "source": [
    "a = 1\n",
    "b = 1\n",
    "if(a==0 and (b:=2)==2 or b ==1):\n",
    "    print(b)"
   ]
  },
  {
   "cell_type": "code",
   "execution_count": null,
   "metadata": {},
   "outputs": [],
   "source": []
  }
 ],
 "metadata": {
  "language_info": {
   "codemirror_mode": {
    "name": "ipython",
    "version": 3
   },
   "file_extension": ".py",
   "mimetype": "text/x-python",
   "name": "python",
   "nbconvert_exporter": "python",
   "pygments_lexer": "ipython3",
   "version": "3.8.5-final"
  },
  "orig_nbformat": 2,
  "kernelspec": {
   "name": "python38264bitpy38conda94cd9eff0e454f91aa2ce4ea50f4b231",
   "display_name": "Python 3.8.2 64-bit ('py38': conda)"
  }
 },
 "nbformat": 4,
 "nbformat_minor": 2
}