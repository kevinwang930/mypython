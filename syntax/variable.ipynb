{
 "metadata": {
  "language_info": {
   "codemirror_mode": {
    "name": "ipython",
    "version": 3
   },
   "file_extension": ".py",
   "mimetype": "text/x-python",
   "name": "python",
   "nbconvert_exporter": "python",
   "pygments_lexer": "ipython3",
   "version": 3
  },
  "orig_nbformat": 2,
  "kernelspec": {
   "name": "python_defaultSpec_1595900033267",
   "display_name": "Python 3.8.4 64-bit ('py38': conda)"
  }
 },
 "nbformat": 4,
 "nbformat_minor": 2,
 "cells": [
  {
   "cell_type": "code",
   "execution_count": null,
   "metadata": {},
   "outputs": [],
   "source": [
    "# nlocal variable \n",
    "def init_x():\n",
    "    x = 5\n",
    "    def get1():\n",
    "        print(x)\n",
    "    def set1(a):\n",
    "        nonlocal x\n",
    "        x = a\n",
    "    def testfunc(cm):    \n",
    "        if (cm == 'set'):\n",
    "            return set1\n",
    "        elif(cm == 'get'):\n",
    "            print(x)\n",
    "            return get1\n",
    "        \n",
    "    return testfunc\n",
    "\n",
    "\n",
    "\n",
    "init_5 = init_x()\n",
    "get1 = init_5('get')\n",
    "set1 = init_5('set')\n",
    "\n",
    "get1()\n",
    "set1(345)\n",
    "get1()"
   ]
  },
  {
   "cell_type": "code",
   "execution_count": 4,
   "metadata": {
    "tags": []
   },
   "outputs": [
    {
     "output_type": "stream",
     "name": "stdout",
     "text": "Inside make_contains_function\nlocals():  {'x': 'a'}\nInside contains function\nlocals():  {'s': 'cat', 'x': 'a'}\n"
    },
    {
     "output_type": "execute_result",
     "data": {
      "text/plain": "True"
     },
     "metadata": {},
     "execution_count": 4
    }
   ],
   "source": [
    "#free variable\n",
    "def make_contains_function(x):\n",
    "     print (\"Inside make_contains_function\")\n",
    "     print (\"locals(): \", locals())\n",
    "     def contains(s):\n",
    "             print (\"Inside contains function\")\n",
    "             print (\"locals(): \", locals())\n",
    "             return x in s\n",
    "     return contains\n",
    "\n",
    "contains_a = make_contains_function('a')\n",
    "contains_a('cat')"
   ]
  }
 ]
}